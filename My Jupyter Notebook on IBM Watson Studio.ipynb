{
  "metadata": {
    "language_info": {
      "codemirror_mode": {
        "name": "python",
        "version": 3
      },
      "file_extension": ".py",
      "mimetype": "text/x-python",
      "name": "python",
      "nbconvert_exporter": "python",
      "pygments_lexer": "ipython3",
      "version": "3.8"
    },
    "kernelspec": {
      "name": "python",
      "display_name": "Pyolite",
      "language": "python"
    }
  },
  "nbformat_minor": 4,
  "nbformat": 4,
  "cells": [
    {
      "cell_type": "markdown",
      "source": "# My Jupyter Notebook on IBM Watson Studio",
      "metadata": {}
    },
    {
      "cell_type": "markdown",
      "source": "**Nathan C**",
      "metadata": {}
    },
    {
      "cell_type": "markdown",
      "source": "I want to know more tools of how to process data",
      "metadata": {}
    },
    {
      "cell_type": "markdown",
      "source": "*I am interested in data science because there are so much data that need to figure out the patterns or make sense of the data for business decision.*",
      "metadata": {}
    },
    {
      "cell_type": "markdown",
      "source": "### Below code is a calculation of 1+1",
      "metadata": {}
    },
    {
      "cell_type": "code",
      "source": "print(1+1)",
      "metadata": {
        "trusted": true
      },
      "execution_count": 1,
      "outputs": [
        {
          "name": "stdout",
          "text": "2\n",
          "output_type": "stream"
        }
      ]
    },
    {
      "cell_type": "markdown",
      "source": "* Number List below:\n  * One\n  * Two\n  * Three\n  * Four\n    \n* Scratch List below: \n    * ~~One~~\n    * ~~Two~~\n    * ~~Three~~",
      "metadata": {}
    },
    {
      "cell_type": "markdown",
      "source": "|**First_Name**|**Last_Name**|*Age*|\n|----------|---------|---|\n|Nathan|C|25|\n|*John*|*Doe*|*43*|\n|~~Amber~~|Rose|32|",
      "metadata": {
        "tags": []
      }
    },
    {
      "cell_type": "markdown",
      "source": "[IBM Cloud Gallery](https://dataplatform.cloud.ibm.com/gallery)",
      "metadata": {}
    },
    {
      "cell_type": "code",
      "source": "",
      "metadata": {},
      "execution_count": null,
      "outputs": []
    }
  ]
}